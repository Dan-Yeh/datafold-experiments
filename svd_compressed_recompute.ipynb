{
 "cells": [
  {
   "cell_type": "code",
   "execution_count": null,
   "metadata": {},
   "outputs": [],
   "source": [
    "import dask\n",
    "from dask.distributed import Client, performance_report\n",
    "from distributed.diagnostics import MemorySampler\n",
    "client = Client()\n",
    "client"
   ]
  },
  {
   "cell_type": "code",
   "execution_count": null,
   "metadata": {},
   "outputs": [],
   "source": [
    "import dask.array as da\n",
    "size = 50000\n",
    "n_svdvtriplets = 9"
   ]
  },
  {
   "cell_type": "code",
   "execution_count": null,
   "metadata": {},
   "outputs": [],
   "source": [
    "x = da.random.random(size=(size, size))"
   ]
  },
  {
   "cell_type": "code",
   "execution_count": null,
   "metadata": {},
   "outputs": [],
   "source": [
    "svdvec_left, svdvals, svdvec_right = da.linalg.svd_compressed(x, k=n_svdvtriplets)\n",
    "svdvec_left1, svdvals1, svdvec_right1 = da.linalg.svd_compressed(x, k=n_svdvtriplets, compute=True)\n",
    "# with performance_report(\"report-nocompute.html\"):\n",
    "ms = MemorySampler()\n",
    "memoryState = 'managed_spilled'\n",
    "interval = 0.01\n",
    "with ms.sample(\"compute=False\", measure=memoryState, interval=interval):\n",
    "    svdvec_left, svdvals, svdvec_right = dask.compute(svdvec_left, svdvals, svdvec_right)\n",
    "\n",
    "with ms.sample(\"compute=True\", measure=memoryState, interval=interval):\n",
    "    svdvec_left1, svdvals1, svdvec_right1 = dask.compute(svdvec_left1, svdvals1, svdvec_right1)"
   ]
  },
  {
   "cell_type": "code",
   "execution_count": 104,
   "metadata": {},
   "outputs": [
    {
     "data": {
      "image/png": "[encoded data removed]",
      "text/plain": [
       "<Figure size 432x288 with 1 Axes>"
      ]
     },
     "metadata": {
      "needs_background": "light"
     },
     "output_type": "display_data"
    }
   ],
   "source": [
    "\n",
    "import matplotlib.pyplot as plt\n",
    "import matplotlib.dates as dates\n",
    "import datetime\n",
    "\n",
    "fig, ax = plt.subplots()\n",
    "\n",
    "ms.plot(align=True, ax=ax)\n",
    "\n",
    "def timeTicks(x, pos):                                                                                                                                                                                                                                                         \n",
    "    d = datetime.timedelta(seconds=x)                                                                                                                                                                                                                                          \n",
    "    return str(d)                                                                                                                                                                                                                                                              \n",
    "formatter = matplotlib.ticker.FuncFormatter(timeTicks)                                                                                                                                                                                                                         \n",
    "ax.xaxis.set_major_formatter(formatter)             \n",
    "\n",
    "plt.show()\n"
   ]
  }
 ],
 "metadata": {
  "kernelspec": {
   "display_name": "Python 3",
   "language": "python",
   "name": "python3"
  },
  "language_info": {
   "codemirror_mode": {
    "name": "ipython",
    "version": 3
   },
   "file_extension": ".py",
   "mimetype": "text/x-python",
   "name": "python",
   "nbconvert_exporter": "python",
   "pygments_lexer": "ipython3",
   "version": "3.10.9"
  },
  "orig_nbformat": 4,
  "vscode": {
   "interpreter": {
    "hash": "aee8b7b246df8f9039afb4144a1f6fd8d2ca17a180786b69acc140d282b71a49"
   }
  }
 },
 "nbformat": 4,
 "nbformat_minor": 2
}
